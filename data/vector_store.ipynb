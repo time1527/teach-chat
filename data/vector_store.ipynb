{
 "cells": [
  {
   "cell_type": "code",
   "execution_count": 1,
   "metadata": {},
   "outputs": [
    {
     "name": "stderr",
     "output_type": "stream",
     "text": [
      "2024-02-27 18:17:38,890 - modelscope - INFO - PyTorch version 2.2.0 Found.\n",
      "2024-02-27 18:17:38,891 - modelscope - INFO - Loading ast index from /home/dola/.cache/modelscope/ast_indexer\n",
      "2024-02-27 18:17:38,910 - modelscope - INFO - Loading done! Current index file version is 1.12.0, with md5 9be49498f9733a0927c19c16d0942590 and a total number of 964 components indexed\n"
     ]
    }
   ],
   "source": [
    "# to import modelscope_agent\n",
    "import sys\n",
    "sys.path.append(\"../\")\n",
    "\n",
    "from modelscope_agent.storage import KnowledgeVector"
   ]
  },
  {
   "cell_type": "code",
   "execution_count": 2,
   "metadata": {},
   "outputs": [
    {
     "name": "stdout",
     "output_type": "stream",
     "text": [
      "/home/dola/teach-chat/data\n"
     ]
    }
   ],
   "source": [
    "import os\n",
    "current_file_dir = os.path.dirname(os.path.abspath(\"__file__\"))\n",
    "print(current_file_dir)"
   ]
  },
  {
   "cell_type": "code",
   "execution_count": 3,
   "metadata": {},
   "outputs": [],
   "source": [
    "def create_db(subject):\n",
    "    knowledge_vector = KnowledgeVector(\n",
    "        storage_path=\"_\".join([\"knowledge_vector\",subject]),\n",
    "        index_name=subject,\n",
    "        use_cache=False\n",
    "    )\n",
    "\n",
    "    files_dir = os.path.join(current_file_dir,subject)\n",
    "    knowledge_vector.add(files_dir)\n",
    "\n",
    "    knowledge_vector.save()\n",
    "    storage_path = knowledge_vector.storage_path\n",
    "    print(f\"学科{subject}的教材已存入{storage_path}!\")"
   ]
  },
  {
   "cell_type": "code",
   "execution_count": 4,
   "metadata": {},
   "outputs": [],
   "source": [
    "def searchin(subject,question,top_k=3):\n",
    "    knowledge_vector = KnowledgeVector(\n",
    "        storage_path=\"_\".join([\"knowledge_vector\",subject]),\n",
    "        index_name=subject,\n",
    "    )\n",
    "\n",
    "    search_results = knowledge_vector.search(question, top_k=top_k)\n",
    "    \n",
    "    return search_results"
   ]
  },
  {
   "cell_type": "code",
   "execution_count": 5,
   "metadata": {},
   "outputs": [
    {
     "name": "stderr",
     "output_type": "stream",
     "text": [
      "2024-02-27 18:17:40,583 - modelscope - WARNING - Model revision not specified, use revision: v1.1.0\n",
      "Downloading: 100%|██████████| 917/917 [00:00<00:00, 6.78MB/s]\n",
      "Downloading: 100%|██████████| 2.29k/2.29k [00:00<00:00, 8.81MB/s]\n",
      "Downloading: 100%|██████████| 60.7k/60.7k [00:00<00:00, 500kB/s]\n",
      "Downloading: 100%|██████████| 195M/195M [01:05<00:00, 3.11MB/s] \n",
      "Downloading: 100%|██████████| 11.4k/11.4k [00:00<00:00, 186kB/s]\n",
      "Downloading: 100%|██████████| 125/125 [00:00<00:00, 545kB/s]\n",
      "Downloading: 100%|██████████| 429k/429k [00:01<00:00, 300kB/s]\n",
      "Downloading: 100%|██████████| 366/366 [00:00<00:00, 2.68MB/s]\n",
      "2024-02-27 18:18:51,602 - modelscope - INFO - initiate model from /home/dola/.cache/modelscope/hub/damo/nlp_gte_sentence-embedding_chinese-base\n",
      "2024-02-27 18:18:51,603 - modelscope - INFO - initiate model from location /home/dola/.cache/modelscope/hub/damo/nlp_gte_sentence-embedding_chinese-base.\n",
      "2024-02-27 18:18:51,606 - modelscope - INFO - initialize model from /home/dola/.cache/modelscope/hub/damo/nlp_gte_sentence-embedding_chinese-base\n",
      "2024-02-27 18:18:52,001 - modelscope - WARNING - No preprocessor field found in cfg.\n",
      "2024-02-27 18:18:52,002 - modelscope - WARNING - No val key and type key found in preprocessor domain of configuration.json file.\n",
      "2024-02-27 18:18:52,002 - modelscope - WARNING - Cannot find available config to build preprocessor at mode inference, current config: {'model_dir': '/home/dola/.cache/modelscope/hub/damo/nlp_gte_sentence-embedding_chinese-base'}. trying to build by task and model information.\n",
      "2024-02-27 18:18:52,016 - modelscope - WARNING - No preprocessor field found in cfg.\n",
      "2024-02-27 18:18:52,016 - modelscope - WARNING - No val key and type key found in preprocessor domain of configuration.json file.\n",
      "2024-02-27 18:18:52,017 - modelscope - WARNING - Cannot find available config to build preprocessor at mode inference, current config: {'model_dir': '/home/dola/.cache/modelscope/hub/damo/nlp_gte_sentence-embedding_chinese-base', 'sequence_length': 128}. trying to build by task and model information.\n",
      "/home/dola/miniconda3/envs/teachchat/lib/python3.10/site-packages/transformers/modeling_utils.py:962: FutureWarning: The `device` argument is deprecated and will be removed in v5 of Transformers.\n",
      "  warnings.warn(\n"
     ]
    },
    {
     "name": "stdout",
     "output_type": "stream",
     "text": [
      "学科physics的教材已存入knowledge_vector_physics!\n"
     ]
    },
    {
     "name": "stderr",
     "output_type": "stream",
     "text": [
      "2024-02-27 18:19:01,128 - modelscope - WARNING - Download interval is too small, use local cache\n",
      "2024-02-27 18:19:01,131 - modelscope - INFO - initiate model from /home/dola/.cache/modelscope/hub/damo/nlp_gte_sentence-embedding_chinese-base\n",
      "2024-02-27 18:19:01,132 - modelscope - INFO - initiate model from location /home/dola/.cache/modelscope/hub/damo/nlp_gte_sentence-embedding_chinese-base.\n",
      "2024-02-27 18:19:01,135 - modelscope - INFO - initialize model from /home/dola/.cache/modelscope/hub/damo/nlp_gte_sentence-embedding_chinese-base\n",
      "2024-02-27 18:19:01,506 - modelscope - WARNING - No preprocessor field found in cfg.\n",
      "2024-02-27 18:19:01,507 - modelscope - WARNING - No val key and type key found in preprocessor domain of configuration.json file.\n",
      "2024-02-27 18:19:01,508 - modelscope - WARNING - Cannot find available config to build preprocessor at mode inference, current config: {'model_dir': '/home/dola/.cache/modelscope/hub/damo/nlp_gte_sentence-embedding_chinese-base'}. trying to build by task and model information.\n",
      "2024-02-27 18:19:01,520 - modelscope - WARNING - No preprocessor field found in cfg.\n",
      "2024-02-27 18:19:01,521 - modelscope - WARNING - No val key and type key found in preprocessor domain of configuration.json file.\n",
      "2024-02-27 18:19:01,521 - modelscope - WARNING - Cannot find available config to build preprocessor at mode inference, current config: {'model_dir': '/home/dola/.cache/modelscope/hub/damo/nlp_gte_sentence-embedding_chinese-base', 'sequence_length': 128}. trying to build by task and model information.\n"
     ]
    },
    {
     "data": {
      "text/plain": [
       "['第四章 运动和力的关系 85 伽利略同时代的法国科学家笛卡儿也研究了这个问题。\\n他认为，如果运动中的物体没有受到力的作用，它将继续 以同一速度沿同一直线运动，既不会停下来，也不会偏离 原来的方向。他还认为，这应该成为一个原理，是人类整 个自然观的基石。\\n   牛顿第一定律  在伽利略和笛卡儿工作的基础上，在隔了一代人以 后，英国科学家牛顿提出了动力学的一条基本定律：一切 物体总保持匀速直线运动状态或静止状态，除非作用在 它上面的力迫使它改变这种状态。这就是牛顿第一定律 （Newton’s first law）。物体这种保持原来匀速直线运动状态 或静止状态的性质叫作惯性（inertia）。牛顿第一定律也叫 作惯性定律。\\n任何物体都和周围的物体有相互作用，不受力作用的 物体是不存在的。所以，牛顿第一定律所描述的状态是一 种理想状态。它是利用逻辑思维进行分析的产物，不可能 用实验直接验证。\\n牛顿第一定律揭示了运动和力的关系：力不是维持物 体运动状态的原因，而是改变物体运动状态的原因。保持 静止或匀速直线运动状态是物体的固有属性，这一属性称 为惯性。惯性不是外界强加给它的，是物体固有的，一切',\n",
       " '为惯性。惯性不是外界强加给它的，是物体固有的，一切 物体都具有惯性。牛顿第一定律为力学的发展奠定了坚实 的基础。\\n①    惯性与质量  牛顿第一定律涉及两个重要的物理概念：力和惯性。\\n有关力的内容我们在上一章已经有所认识，下面我们进一 步来讨论惯性。\\n_______________________ ① 牛顿在1687 年出版的《自然哲学的数学原理》中提出了三条运动定律，它 们是整个动力学的核心。\\n牛顿 （Isaac Newton，1643—  1727）   如果一个物体由静止 变为运动或由运动变为静 止，我们说它的运动状态 发生了改变。\\n  如果一个物体的速度 大小或方向改变了， 我们 也说它的运动状态发生了 改变。',\n",
       " '第四章 运动和力的关系 83 牛顿第一定律 1 初中我们学习了牛顿第一定律的基本内容， 你能说说它揭示了物体运动遵循怎样的规律吗？ 滑冰运动员如果不用力，他会慢慢停下来。这是 否与牛顿第一定律矛盾呢？ 问题 爱因斯坦曾把一代代科学家探索自然奥秘的努力，比 作侦探小说中警员破案的过程。在侦探小说中，有时候明 显可见的线索却把人们引到错误的判断上去。\\n长期以来，在研究物体运动原因的过程中，人们的经 验是：要使一个物体运动，必须推它或拉它。因此，人们 直觉地认为，物体的运动是与推、拉等行为相联系的，如 果不再推、拉，原来运动的物体便会停止下来。根据这类 经验，亚里士多德得出结论：必须有力作用在物体上，物 体才能运动；没有力的作用，物体就要静止在某个地方。\\n然而，在探究运动原因的“侦探小说”里，这正是由明显 的线索引出错误判断的案例，而且这个“错案”维持了很 久。直至近四百年前，伽利略才创造了有效的“侦察”方 法，发现了正确的线索，揭示了事物现象的本质，成为物 理学中的“神探”。\\n牛顿是世界上从未有过的最伟大的科 学家。\\n——阿西莫夫 ①    无论是亚里士多德，还 是伽利略和笛卡儿，都没']"
      ]
     },
     "execution_count": 5,
     "metadata": {},
     "output_type": "execute_result"
    }
   ],
   "source": [
    "create_db(\"physics\")\n",
    "searchin(\"physics\",\"牛顿第一定律是什么\")"
   ]
  },
  {
   "cell_type": "code",
   "execution_count": 6,
   "metadata": {},
   "outputs": [
    {
     "name": "stderr",
     "output_type": "stream",
     "text": [
      "2024-02-27 18:19:02,557 - modelscope - WARNING - Download interval is too small, use local cache\n",
      "2024-02-27 18:19:02,560 - modelscope - INFO - initiate model from /home/dola/.cache/modelscope/hub/damo/nlp_gte_sentence-embedding_chinese-base\n",
      "2024-02-27 18:19:02,561 - modelscope - INFO - initiate model from location /home/dola/.cache/modelscope/hub/damo/nlp_gte_sentence-embedding_chinese-base.\n",
      "2024-02-27 18:19:02,564 - modelscope - INFO - initialize model from /home/dola/.cache/modelscope/hub/damo/nlp_gte_sentence-embedding_chinese-base\n",
      "2024-02-27 18:19:02,931 - modelscope - WARNING - No preprocessor field found in cfg.\n",
      "2024-02-27 18:19:02,932 - modelscope - WARNING - No val key and type key found in preprocessor domain of configuration.json file.\n",
      "2024-02-27 18:19:02,932 - modelscope - WARNING - Cannot find available config to build preprocessor at mode inference, current config: {'model_dir': '/home/dola/.cache/modelscope/hub/damo/nlp_gte_sentence-embedding_chinese-base'}. trying to build by task and model information.\n",
      "2024-02-27 18:19:02,947 - modelscope - WARNING - No preprocessor field found in cfg.\n",
      "2024-02-27 18:19:02,948 - modelscope - WARNING - No val key and type key found in preprocessor domain of configuration.json file.\n",
      "2024-02-27 18:19:02,948 - modelscope - WARNING - Cannot find available config to build preprocessor at mode inference, current config: {'model_dir': '/home/dola/.cache/modelscope/hub/damo/nlp_gte_sentence-embedding_chinese-base', 'sequence_length': 128}. trying to build by task and model information.\n",
      "/home/dola/miniconda3/envs/teachchat/lib/python3.10/site-packages/transformers/modeling_utils.py:962: FutureWarning: The `device` argument is deprecated and will be removed in v5 of Transformers.\n",
      "  warnings.warn(\n"
     ]
    },
    {
     "name": "stdout",
     "output_type": "stream",
     "text": [
      "学科chemistry的教材已存入knowledge_vector_chemistry!\n"
     ]
    },
    {
     "name": "stderr",
     "output_type": "stream",
     "text": [
      "2024-02-27 18:19:14,127 - modelscope - WARNING - Model revision not specified, use revision: v1.1.0\n",
      "2024-02-27 18:19:14,448 - modelscope - INFO - initiate model from /home/dola/.cache/modelscope/hub/damo/nlp_gte_sentence-embedding_chinese-base\n",
      "2024-02-27 18:19:14,450 - modelscope - INFO - initiate model from location /home/dola/.cache/modelscope/hub/damo/nlp_gte_sentence-embedding_chinese-base.\n",
      "2024-02-27 18:19:14,452 - modelscope - INFO - initialize model from /home/dola/.cache/modelscope/hub/damo/nlp_gte_sentence-embedding_chinese-base\n",
      "2024-02-27 18:19:14,812 - modelscope - WARNING - No preprocessor field found in cfg.\n",
      "2024-02-27 18:19:14,813 - modelscope - WARNING - No val key and type key found in preprocessor domain of configuration.json file.\n",
      "2024-02-27 18:19:14,813 - modelscope - WARNING - Cannot find available config to build preprocessor at mode inference, current config: {'model_dir': '/home/dola/.cache/modelscope/hub/damo/nlp_gte_sentence-embedding_chinese-base'}. trying to build by task and model information.\n",
      "2024-02-27 18:19:14,827 - modelscope - WARNING - No preprocessor field found in cfg.\n",
      "2024-02-27 18:19:14,828 - modelscope - WARNING - No val key and type key found in preprocessor domain of configuration.json file.\n",
      "2024-02-27 18:19:14,828 - modelscope - WARNING - Cannot find available config to build preprocessor at mode inference, current config: {'model_dir': '/home/dola/.cache/modelscope/hub/damo/nlp_gte_sentence-embedding_chinese-base', 'sequence_length': 128}. trying to build by task and model information.\n"
     ]
    },
    {
     "data": {
      "text/plain": [
       "['反应）后，人们把物质与氧结合的反应叫做 氧化反应，把氧化物失去氧的反应叫做还原 反应。\\n1 8 5 2 年 ， 英 国 化 学 家 弗 兰 克 兰 （E. Frankland，1825—1899）在研究金属有机 化合物时提出化合价的概念，并逐步得到完 善以后，人们把化合价升高的反应叫做氧化 反应，把化合价降低的反应叫做还原反应。\\n1 8 9 7 年 ， 英 国 物 理 学 家 汤 姆 孙 （J.J. Thomson，1856—1940） 发 现 了 电 子， 打破了原子不可再分的传统观念，使人们对 原子的结构有了深入的认识。在此基础上， 人们把化合价的升降与原子最外层电子的得失 或共用联系起来，将原子失去电子（或电子对 偏离）的过程叫做氧化反应，把原子得到电 子（或电子对偏向）的过程叫做还原反应。\\n在化学学习的初始阶段，我们学习的一 些概念如氧化还原反应等，往往是不完善和 不全面的，这些概念常有一定的适用范围。\\n因此，我们应该正确看待这些初始阶段的概 念，并注意它们的发展。\\n科学史话 还原剂 reductant 氧化剂 oxidant',\n",
       " '第三节 氧化还原反应 25 二、氧化剂和还原剂 在氧化还原反应中，一种物质失去电子（或电子对偏 离），必然同时有物质得到电子（或电子对偏向）。在反应 时，所含元素的化合价升高，即失去电子（或电子对偏离） 的物质是还原剂；所含元素的化合价降低，即得到电子 （或电子对偏向）的物质是氧化剂。在反应中，电子从还原 剂转移到氧化剂（如图1-15）。\\n例如，对于下列反应：\\nCuO + H2 △ = Cu + H2O 2e - 氧化剂  还原剂 2Na + Cl2 △ = 2NaCl 2e - 还原剂  氧化剂 可以看出，还原剂和氧化剂作为反应物共同参加氧化 还原反应。还原剂具有还原性，反应时本身被氧化；氧化 图1-15 还原剂和氧化剂的关系 ��� ���� �������� ��� ��� ���� �������� ��� e � 氧化还原反应概念的发展 人们对氧化还原反应的认识经历了一个 漫长的过程。1774年，法国化学家拉瓦锡提 出燃烧的氧化学说（即燃烧是物质与氧气的 反应）后，人们把物质与氧结合的反应叫做 氧化反应，把氧化物失去氧的反应叫做还原 反应。',\n",
       " '22 第一章  物质及其变化 在初中，我们根据反应中物质得到氧或失去氧，把化 学反应分为氧化反应或还原反应。那么，只有得氧（或失 氧）的反应才是氧化反应（或还原反应）吗？氧化反应和 还原反应是分别发生的吗？这类反应的本质是什么？ 一、氧化还原反应 第三节 氧化还原反应 思考与讨论 （1）请根据初中学过的氧化反应和还原反应的知识，分析以下反应，完成下表。\\n2CuO + C = 高温  2Cu + CO2↑    Fe2O3 + 3CO = 高温  2Fe + 3CO2 物质 反应物 发生的反应（氧化反应或还原反应） 得氧物质 失氧物质 氧化还原反应 oxidation-reduction reaction 可以发现，在化学反应中，一种物质得到氧发生氧化 反应，必然有一种物质失去氧发生还原反应。也就是说， 氧化反应和还原反应是在一个反应中同时发生的，这样的 反应称为氧化还原反应。\\n（2）请标出以上反应中各物质所含元素的化合价，比较反应前后价态有无变化。\\n（3）讨论：在以上反应中，物质发生氧化反应或还原反应，与物质所含元素化 合价的升高或降低有什么关系？']"
      ]
     },
     "execution_count": 6,
     "metadata": {},
     "output_type": "execute_result"
    }
   ],
   "source": [
    "create_db(\"chemistry\")\n",
    "searchin(\"chemistry\",\"什么是还原反应\")"
   ]
  }
 ],
 "metadata": {
  "kernelspec": {
   "display_name": "teachchat",
   "language": "python",
   "name": "python3"
  },
  "language_info": {
   "codemirror_mode": {
    "name": "ipython",
    "version": 3
   },
   "file_extension": ".py",
   "mimetype": "text/x-python",
   "name": "python",
   "nbconvert_exporter": "python",
   "pygments_lexer": "ipython3",
   "version": "3.10.13"
  }
 },
 "nbformat": 4,
 "nbformat_minor": 2
}
