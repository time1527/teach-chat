{
 "cells": [
  {
   "cell_type": "code",
   "execution_count": 1,
   "metadata": {},
   "outputs": [
    {
     "name": "stderr",
     "output_type": "stream",
     "text": [
      "2024-02-21 15:01:21,260 - modelscope - INFO - PyTorch version 2.2.0 Found.\n",
      "2024-02-21 15:01:21,262 - modelscope - INFO - Loading ast index from /home/dola/.cache/modelscope/ast_indexer\n",
      "2024-02-21 15:01:21,279 - modelscope - INFO - Loading done! Current index file version is 1.12.0, with md5 71185c4a542bdbeca75f17e1a9afb259 and a total number of 964 components indexed\n"
     ]
    }
   ],
   "source": [
    "# to import modelscope_agent\n",
    "import sys\n",
    "sys.path.append(\"../\")\n",
    "\n",
    "from modelscope_agent.storage import KnowledgeVector"
   ]
  },
  {
   "cell_type": "code",
   "execution_count": 2,
   "metadata": {},
   "outputs": [
    {
     "name": "stdout",
     "output_type": "stream",
     "text": [
      "/home/dola/teach-chat/data\n"
     ]
    }
   ],
   "source": [
    "import os\n",
    "current_file_dir = os.path.dirname(os.path.abspath(\"__file__\"))\n",
    "print(current_file_dir)"
   ]
  },
  {
   "cell_type": "code",
   "execution_count": 3,
   "metadata": {},
   "outputs": [],
   "source": [
    "def create_db(subject):\n",
    "    knowledge_vector = KnowledgeVector(\n",
    "        storage_path=\"_\".join([\"knowledge_vector\",subject]),\n",
    "        index_name=subject,\n",
    "        use_cache=False\n",
    "    )\n",
    "\n",
    "    files_dir = os.path.join(current_file_dir,subject)\n",
    "    knowledge_vector.add(files_dir)\n",
    "\n",
    "    knowledge_vector.save()\n",
    "    storage_path = knowledge_vector.storage_path\n",
    "    print(f\"学科{subject}的教材已存入{storage_path}!\")"
   ]
  },
  {
   "cell_type": "code",
   "execution_count": 4,
   "metadata": {},
   "outputs": [],
   "source": [
    "def searchin(subject,question,top_k=3):\n",
    "    knowledge_vector = KnowledgeVector(\n",
    "        storage_path=\"_\".join([\"knowledge_vector\",subject]),\n",
    "        index_name=subject,\n",
    "    )\n",
    "\n",
    "    search_results = knowledge_vector.search(question, top_k=top_k)\n",
    "    \n",
    "    return search_results"
   ]
  },
  {
   "cell_type": "code",
   "execution_count": 5,
   "metadata": {},
   "outputs": [
    {
     "name": "stdout",
     "output_type": "stream",
     "text": [
      "学科physics的教材已存入knowledge_vector_physics!\n",
      "at vs.search,return [Document(page_content='为惯性。惯性不是外界强加给它的，是物体固有的，一切 物体都具有惯性。牛顿第一定律为力学的发展奠定了坚实 的基础。\\n①    惯性与质量  牛顿第一定律涉及两个重要的物理概念：力和惯性。\\n有关力的内容我们在上一章已经有所认识，下面我们进一 步来讨论惯性。\\n_______________________ ① 牛顿在1687 年出版的《自然哲学的数学原理》中提出了三条运动定律，它 们是整个动力学的核心。\\n牛顿 （Isaac Newton，1643—  1727）   如果一个物体由静止 变为运动或由运动变为静 止，我们说它的运动状态 发生了改变。\\n  如果一个物体的速度 大小或方向改变了， 我们 也说它的运动状态发生了 改变。', metadata={'source': '/home/dola/teach-chat/data/physics/物理必修第一册.pdf', 'file_path': '/home/dola/teach-chat/data/physics/物理必修第一册.pdf', 'page': 89, 'total_pages': 134, 'format': 'PDF 1.7', 'title': '', 'author': 'Founder Electronics Ltd', 'subject': '', 'keywords': '', 'creator': 'Adobe InDesign 16.1 (Macintosh)', 'producer': 'Adobe PDF Library 15.0', 'creationDate': \"D:20220507151728+08'00'\", 'modDate': \"D:20230820162312+08'00'\", 'trapped': 'False'}), Document(page_content='牛顿在前人对惯性研究的基础上，开始思考“物体怎 样才会不沿直线运动”这一问题。他的回答是：以任何方 式改变速度（包括改变速度的方向）都需要力。这就是说， 使行星沿圆或椭圆运动，需要指向圆心或椭圆焦点的力， 这个力应该就是太阳对它的引力。于是，牛顿利用他的运 动定律把行星的向心加速度与太阳对它的引力联系起来了。\\n   哥白尼、第谷、开普 勒这些科学家不畏艰辛、 几十年如一日刻苦钻研的 精神是成功的基石，值得 我们学习。\\n？', metadata={'source': '/home/dola/teach-chat/data/physics/物理必修第二册.pdf', 'file_path': '/home/dola/teach-chat/data/physics/物理必修第二册.pdf', 'page': 53, 'total_pages': 114, 'format': 'PDF 1.7', 'title': '', 'author': 'Founder Electronics Ltd', 'subject': '', 'keywords': '', 'creator': 'Adobe InDesign 16.1 (Macintosh)', 'producer': 'Adobe PDF Library 15.0', 'creationDate': \"D:20220505141848+08'00'\", 'modDate': \"D:20230820162955+08'00'\", 'trapped': 'False'}), Document(page_content='第四章 运动和力的关系 85 伽利略同时代的法国科学家笛卡儿也研究了这个问题。\\n他认为，如果运动中的物体没有受到力的作用，它将继续 以同一速度沿同一直线运动，既不会停下来，也不会偏离 原来的方向。他还认为，这应该成为一个原理，是人类整 个自然观的基石。\\n   牛顿第一定律  在伽利略和笛卡儿工作的基础上，在隔了一代人以 后，英国科学家牛顿提出了动力学的一条基本定律：一切 物体总保持匀速直线运动状态或静止状态，除非作用在 它上面的力迫使它改变这种状态。这就是牛顿第一定律 （Newton’s first law）。物体这种保持原来匀速直线运动状态 或静止状态的性质叫作惯性（inertia）。牛顿第一定律也叫 作惯性定律。\\n任何物体都和周围的物体有相互作用，不受力作用的 物体是不存在的。所以，牛顿第一定律所描述的状态是一 种理想状态。它是利用逻辑思维进行分析的产物，不可能 用实验直接验证。\\n牛顿第一定律揭示了运动和力的关系：力不是维持物 体运动状态的原因，而是改变物体运动状态的原因。保持 静止或匀速直线运动状态是物体的固有属性，这一属性称 为惯性。惯性不是外界强加给它的，是物体固有的，一切', metadata={'source': '/home/dola/teach-chat/data/physics/物理必修第一册.pdf', 'file_path': '/home/dola/teach-chat/data/physics/物理必修第一册.pdf', 'page': 89, 'total_pages': 134, 'format': 'PDF 1.7', 'title': '', 'author': 'Founder Electronics Ltd', 'subject': '', 'keywords': '', 'creator': 'Adobe InDesign 16.1 (Macintosh)', 'producer': 'Adobe PDF Library 15.0', 'creationDate': \"D:20220507151728+08'00'\", 'modDate': \"D:20230820162312+08'00'\", 'trapped': 'False'})]\n"
     ]
    },
    {
     "data": {
      "text/plain": [
       "[Document(page_content='牛顿在前人对惯性研究的基础上，开始思考“物体怎 样才会不沿直线运动”这一问题。他的回答是：以任何方 式改变速度（包括改变速度的方向）都需要力。这就是说， 使行星沿圆或椭圆运动，需要指向圆心或椭圆焦点的力， 这个力应该就是太阳对它的引力。于是，牛顿利用他的运 动定律把行星的向心加速度与太阳对它的引力联系起来了。\\n   哥白尼、第谷、开普 勒这些科学家不畏艰辛、 几十年如一日刻苦钻研的 精神是成功的基石，值得 我们学习。\\n？', metadata={'source': '/home/dola/teach-chat/data/physics/物理必修第二册.pdf', 'file_path': '/home/dola/teach-chat/data/physics/物理必修第二册.pdf', 'page': 53, 'total_pages': 114, 'format': 'PDF 1.7', 'title': '', 'author': 'Founder Electronics Ltd', 'subject': '', 'keywords': '', 'creator': 'Adobe InDesign 16.1 (Macintosh)', 'producer': 'Adobe PDF Library 15.0', 'creationDate': \"D:20220505141848+08'00'\", 'modDate': \"D:20230820162955+08'00'\", 'trapped': 'False'}),\n",
       " Document(page_content='为惯性。惯性不是外界强加给它的，是物体固有的，一切 物体都具有惯性。牛顿第一定律为力学的发展奠定了坚实 的基础。\\n①    惯性与质量  牛顿第一定律涉及两个重要的物理概念：力和惯性。\\n有关力的内容我们在上一章已经有所认识，下面我们进一 步来讨论惯性。\\n_______________________ ① 牛顿在1687 年出版的《自然哲学的数学原理》中提出了三条运动定律，它 们是整个动力学的核心。\\n牛顿 （Isaac Newton，1643—  1727）   如果一个物体由静止 变为运动或由运动变为静 止，我们说它的运动状态 发生了改变。\\n  如果一个物体的速度 大小或方向改变了， 我们 也说它的运动状态发生了 改变。', metadata={'source': '/home/dola/teach-chat/data/physics/物理必修第一册.pdf', 'file_path': '/home/dola/teach-chat/data/physics/物理必修第一册.pdf', 'page': 89, 'total_pages': 134, 'format': 'PDF 1.7', 'title': '', 'author': 'Founder Electronics Ltd', 'subject': '', 'keywords': '', 'creator': 'Adobe InDesign 16.1 (Macintosh)', 'producer': 'Adobe PDF Library 15.0', 'creationDate': \"D:20220507151728+08'00'\", 'modDate': \"D:20230820162312+08'00'\", 'trapped': 'False'}),\n",
       " Document(page_content='第四章 运动和力的关系 85 伽利略同时代的法国科学家笛卡儿也研究了这个问题。\\n他认为，如果运动中的物体没有受到力的作用，它将继续 以同一速度沿同一直线运动，既不会停下来，也不会偏离 原来的方向。他还认为，这应该成为一个原理，是人类整 个自然观的基石。\\n   牛顿第一定律  在伽利略和笛卡儿工作的基础上，在隔了一代人以 后，英国科学家牛顿提出了动力学的一条基本定律：一切 物体总保持匀速直线运动状态或静止状态，除非作用在 它上面的力迫使它改变这种状态。这就是牛顿第一定律 （Newton’s first law）。物体这种保持原来匀速直线运动状态 或静止状态的性质叫作惯性（inertia）。牛顿第一定律也叫 作惯性定律。\\n任何物体都和周围的物体有相互作用，不受力作用的 物体是不存在的。所以，牛顿第一定律所描述的状态是一 种理想状态。它是利用逻辑思维进行分析的产物，不可能 用实验直接验证。\\n牛顿第一定律揭示了运动和力的关系：力不是维持物 体运动状态的原因，而是改变物体运动状态的原因。保持 静止或匀速直线运动状态是物体的固有属性，这一属性称 为惯性。惯性不是外界强加给它的，是物体固有的，一切', metadata={'source': '/home/dola/teach-chat/data/physics/物理必修第一册.pdf', 'file_path': '/home/dola/teach-chat/data/physics/物理必修第一册.pdf', 'page': 89, 'total_pages': 134, 'format': 'PDF 1.7', 'title': '', 'author': 'Founder Electronics Ltd', 'subject': '', 'keywords': '', 'creator': 'Adobe InDesign 16.1 (Macintosh)', 'producer': 'Adobe PDF Library 15.0', 'creationDate': \"D:20220507151728+08'00'\", 'modDate': \"D:20230820162312+08'00'\", 'trapped': 'False'})]"
      ]
     },
     "execution_count": 5,
     "metadata": {},
     "output_type": "execute_result"
    }
   ],
   "source": [
    "create_db(\"physics\")\n",
    "searchin(\"physics\",\"牛顿第一定律是什么\")"
   ]
  },
  {
   "cell_type": "code",
   "execution_count": 6,
   "metadata": {},
   "outputs": [
    {
     "name": "stdout",
     "output_type": "stream",
     "text": [
      "学科chemistry的教材已存入knowledge_vector_chemistry!\n",
      "at vs.search,return [Document(page_content='反应）后，人们把物质与氧结合的反应叫做 氧化反应，把氧化物失去氧的反应叫做还原 反应。\\n1 8 5 2 年 ， 英 国 化 学 家 弗 兰 克 兰 （E. Frankland，1825—1899）在研究金属有机 化合物时提出化合价的概念，并逐步得到完 善以后，人们把化合价升高的反应叫做氧化 反应，把化合价降低的反应叫做还原反应。\\n1 8 9 7 年 ， 英 国 物 理 学 家 汤 姆 孙 （J.J. Thomson，1856—1940） 发 现 了 电 子， 打破了原子不可再分的传统观念，使人们对 原子的结构有了深入的认识。在此基础上， 人们把化合价的升降与原子最外层电子的得失 或共用联系起来，将原子失去电子（或电子对 偏离）的过程叫做氧化反应，把原子得到电 子（或电子对偏向）的过程叫做还原反应。\\n在化学学习的初始阶段，我们学习的一 些概念如氧化还原反应等，往往是不完善和 不全面的，这些概念常有一定的适用范围。\\n因此，我们应该正确看待这些初始阶段的概 念，并注意它们的发展。\\n科学史话 还原剂 reductant 氧化剂 oxidant', metadata={'source': '/home/dola/teach-chat/data/chemistry/化学必修第一册.pdf', 'file_path': '/home/dola/teach-chat/data/chemistry/化学必修第一册.pdf', 'page': 29, 'total_pages': 139, 'format': 'PDF 1.7', 'title': '', 'author': 'Founder Electronics Ltd', 'subject': '', 'keywords': '', 'creator': 'Adobe InDesign 16.1 (Macintosh)', 'producer': 'Adobe PDF Library 15.0', 'creationDate': \"D:20220507152315+08'00'\", 'modDate': \"D:20230812125114+08'00'\", 'trapped': 'False'}), Document(page_content='（或电子对偏离），则元素的化合价升高，物质被氧化；元 素的原子得到电子（或电子对偏向），则元素的化合价降 低，物质被还原。\\n化合反应、分解反应、置换反应、复分解反应等4种 基本类型的反应与氧化还原反应的关系如图1-14所示。\\n������ ���� ���� ���� ����� 图1-14 4种基本类型的反应与氧化还原反应的关系', metadata={'source': '/home/dola/teach-chat/data/chemistry/化学必修第一册.pdf', 'file_path': '/home/dola/teach-chat/data/chemistry/化学必修第一册.pdf', 'page': 28, 'total_pages': 139, 'format': 'PDF 1.7', 'title': '', 'author': 'Founder Electronics Ltd', 'subject': '', 'keywords': '', 'creator': 'Adobe InDesign 16.1 (Macintosh)', 'producer': 'Adobe PDF Library 15.0', 'creationDate': \"D:20220507152315+08'00'\", 'modDate': \"D:20230812125114+08'00'\", 'trapped': 'False'}), Document(page_content='第三节 氧化还原反应 25 二、氧化剂和还原剂 在氧化还原反应中，一种物质失去电子（或电子对偏 离），必然同时有物质得到电子（或电子对偏向）。在反应 时，所含元素的化合价升高，即失去电子（或电子对偏离） 的物质是还原剂；所含元素的化合价降低，即得到电子 （或电子对偏向）的物质是氧化剂。在反应中，电子从还原 剂转移到氧化剂（如图1-15）。\\n例如，对于下列反应：\\nCuO + H2 △ = Cu + H2O 2e - 氧化剂  还原剂 2Na + Cl2 △ = 2NaCl 2e - 还原剂  氧化剂 可以看出，还原剂和氧化剂作为反应物共同参加氧化 还原反应。还原剂具有还原性，反应时本身被氧化；氧化 图1-15 还原剂和氧化剂的关系 ��� ���� �������� ��� ��� ���� �������� ��� e � 氧化还原反应概念的发展 人们对氧化还原反应的认识经历了一个 漫长的过程。1774年，法国化学家拉瓦锡提 出燃烧的氧化学说（即燃烧是物质与氧气的 反应）后，人们把物质与氧结合的反应叫做 氧化反应，把氧化物失去氧的反应叫做还原 反应。', metadata={'source': '/home/dola/teach-chat/data/chemistry/化学必修第一册.pdf', 'file_path': '/home/dola/teach-chat/data/chemistry/化学必修第一册.pdf', 'page': 29, 'total_pages': 139, 'format': 'PDF 1.7', 'title': '', 'author': 'Founder Electronics Ltd', 'subject': '', 'keywords': '', 'creator': 'Adobe InDesign 16.1 (Macintosh)', 'producer': 'Adobe PDF Library 15.0', 'creationDate': \"D:20220507152315+08'00'\", 'modDate': \"D:20230812125114+08'00'\", 'trapped': 'False'})]\n"
     ]
    },
    {
     "data": {
      "text/plain": [
       "[Document(page_content='（或电子对偏离），则元素的化合价升高，物质被氧化；元 素的原子得到电子（或电子对偏向），则元素的化合价降 低，物质被还原。\\n化合反应、分解反应、置换反应、复分解反应等4种 基本类型的反应与氧化还原反应的关系如图1-14所示。\\n������ ���� ���� ���� ����� 图1-14 4种基本类型的反应与氧化还原反应的关系', metadata={'source': '/home/dola/teach-chat/data/chemistry/化学必修第一册.pdf', 'file_path': '/home/dola/teach-chat/data/chemistry/化学必修第一册.pdf', 'page': 28, 'total_pages': 139, 'format': 'PDF 1.7', 'title': '', 'author': 'Founder Electronics Ltd', 'subject': '', 'keywords': '', 'creator': 'Adobe InDesign 16.1 (Macintosh)', 'producer': 'Adobe PDF Library 15.0', 'creationDate': \"D:20220507152315+08'00'\", 'modDate': \"D:20230812125114+08'00'\", 'trapped': 'False'}),\n",
       " Document(page_content='反应）后，人们把物质与氧结合的反应叫做 氧化反应，把氧化物失去氧的反应叫做还原 反应。\\n1 8 5 2 年 ， 英 国 化 学 家 弗 兰 克 兰 （E. Frankland，1825—1899）在研究金属有机 化合物时提出化合价的概念，并逐步得到完 善以后，人们把化合价升高的反应叫做氧化 反应，把化合价降低的反应叫做还原反应。\\n1 8 9 7 年 ， 英 国 物 理 学 家 汤 姆 孙 （J.J. Thomson，1856—1940） 发 现 了 电 子， 打破了原子不可再分的传统观念，使人们对 原子的结构有了深入的认识。在此基础上， 人们把化合价的升降与原子最外层电子的得失 或共用联系起来，将原子失去电子（或电子对 偏离）的过程叫做氧化反应，把原子得到电 子（或电子对偏向）的过程叫做还原反应。\\n在化学学习的初始阶段，我们学习的一 些概念如氧化还原反应等，往往是不完善和 不全面的，这些概念常有一定的适用范围。\\n因此，我们应该正确看待这些初始阶段的概 念，并注意它们的发展。\\n科学史话 还原剂 reductant 氧化剂 oxidant', metadata={'source': '/home/dola/teach-chat/data/chemistry/化学必修第一册.pdf', 'file_path': '/home/dola/teach-chat/data/chemistry/化学必修第一册.pdf', 'page': 29, 'total_pages': 139, 'format': 'PDF 1.7', 'title': '', 'author': 'Founder Electronics Ltd', 'subject': '', 'keywords': '', 'creator': 'Adobe InDesign 16.1 (Macintosh)', 'producer': 'Adobe PDF Library 15.0', 'creationDate': \"D:20220507152315+08'00'\", 'modDate': \"D:20230812125114+08'00'\", 'trapped': 'False'}),\n",
       " Document(page_content='第三节 氧化还原反应 25 二、氧化剂和还原剂 在氧化还原反应中，一种物质失去电子（或电子对偏 离），必然同时有物质得到电子（或电子对偏向）。在反应 时，所含元素的化合价升高，即失去电子（或电子对偏离） 的物质是还原剂；所含元素的化合价降低，即得到电子 （或电子对偏向）的物质是氧化剂。在反应中，电子从还原 剂转移到氧化剂（如图1-15）。\\n例如，对于下列反应：\\nCuO + H2 △ = Cu + H2O 2e - 氧化剂  还原剂 2Na + Cl2 △ = 2NaCl 2e - 还原剂  氧化剂 可以看出，还原剂和氧化剂作为反应物共同参加氧化 还原反应。还原剂具有还原性，反应时本身被氧化；氧化 图1-15 还原剂和氧化剂的关系 ��� ���� �������� ��� ��� ���� �������� ��� e � 氧化还原反应概念的发展 人们对氧化还原反应的认识经历了一个 漫长的过程。1774年，法国化学家拉瓦锡提 出燃烧的氧化学说（即燃烧是物质与氧气的 反应）后，人们把物质与氧结合的反应叫做 氧化反应，把氧化物失去氧的反应叫做还原 反应。', metadata={'source': '/home/dola/teach-chat/data/chemistry/化学必修第一册.pdf', 'file_path': '/home/dola/teach-chat/data/chemistry/化学必修第一册.pdf', 'page': 29, 'total_pages': 139, 'format': 'PDF 1.7', 'title': '', 'author': 'Founder Electronics Ltd', 'subject': '', 'keywords': '', 'creator': 'Adobe InDesign 16.1 (Macintosh)', 'producer': 'Adobe PDF Library 15.0', 'creationDate': \"D:20220507152315+08'00'\", 'modDate': \"D:20230812125114+08'00'\", 'trapped': 'False'})]"
      ]
     },
     "execution_count": 6,
     "metadata": {},
     "output_type": "execute_result"
    }
   ],
   "source": [
    "create_db(\"chemistry\")\n",
    "searchin(\"chemistry\",\"什么是还原反应\")"
   ]
  },
  {
   "cell_type": "code",
   "execution_count": 7,
   "metadata": {},
   "outputs": [
    {
     "name": "stdout",
     "output_type": "stream",
     "text": [
      "学科chinese的教材已存入knowledge_vector_chinese!\n",
      "at vs.search,return [Document(page_content='的抒情诗。\\nq  〔 帝 高 阳 之 苗 裔 兮， 朕 皇 考 曰 伯 庸 〕 我 是 颛 顼 （zhuānxū）帝的远代子孙（即楚王的同宗），父亲 名为伯庸。高阳，传说中的古代帝王颛顼。苗裔， 远代子孙。朕，我。皇考，对已故父亲的美称。\\n皇，大。考，称已故的父亲。\\nr  〔摄提贞于孟陬（zōu）兮，惟庚寅吾以降〕正当寅 年的寅月寅日，我降生了。摄提，即“摄提格”， 寅年的别称。贞，当、正当。孟陬，孟春正月，是 寅月，正月为陬。庚寅，庚寅日。降，降生。\\ns  〔皇览揆（kuí）余初度兮，肇锡余以嘉名〕先父 观察衡量我降生时的情况，一出生就赐给我美名。\\n皇，“皇考”的简称。览揆，观察衡量。览，观察。\\n揆，测度、衡量。初度，出生时的情况。肇，开 始。锡，赐给。嘉名，美名。', metadata={'source': '/home/dola/teach-chat/data/chinese/语文选择性必修下册.pdf', 'file_path': '/home/dola/teach-chat/data/chinese/语文选择性必修下册.pdf', 'page': 7, 'total_pages': 126, 'format': 'PDF 1.7', 'title': '', 'author': 'Founder Electronics Ltd', 'subject': '', 'keywords': '', 'creator': 'Adobe InDesign 15.0 (Macintosh)', 'producer': 'Adobe PDF Library 15.0', 'creationDate': \"D:20210727142159+08'00'\", 'modDate': \"D:20230810162313+08'00'\", 'trapped': 'False'}), Document(page_content='土 u，宦骑与黄门驸马争船 v，推堕驸马河中溺死，宦骑亡，诏使孺卿 逐捕，不得，惶恐饮药而死。来时太夫人已不幸 w，陵送葬至阳陵 x。\\n子卿妇年少，闻已更嫁 y矣。独有女弟 z二人，两女一男 @7，今复十余 年，存亡不可知。人生如朝露，何久自苦如此！陵始降时，忽忽如狂， 自痛负汉 @8，加以老母系保宫 @9。子卿不欲降，何以过陵 #0 ？且陛下春', metadata={'source': '/home/dola/teach-chat/data/chinese/语文选择性必修中册.pdf', 'file_path': '/home/dola/teach-chat/data/chinese/语文选择性必修中册.pdf', 'page': 94, 'total_pages': 138, 'format': 'PDF 1.7', 'title': '', 'author': 'Founder Electronics Ltd', 'subject': '', 'keywords': '', 'creator': 'Adobe InDesign 15.0 (Macintosh)', 'producer': 'Adobe PDF Library 15.0', 'creationDate': \"D:20200728145737+08'00'\", 'modDate': \"D:20230812141802+08'00'\", 'trapped': 'False'}), Document(page_content='女儿出身微贱，不能相配。但这两句后边，恐仍有 脱漏之句。寻，接着、不久。丞，郡丞，辅助太守 的官。承籍，承继祖辈的仕籍。宦官，即官宦，做 官的人。\\nl  〔娇逸〕娇美文雅。\\nm  〔遣丞为媒人，主簿通语言〕请郡丞做媒人，主簿 传达（太守）的话。主簿，太守的下属。\\nn  〔结大义〕指结为婚姻。\\no  〔作计〕打算。\\np  〔不量（liáng）〕意思是欠考虑。\\nq  〔否（pǐ）泰如天地〕运气的好坏，相差像天上地下 一样。否，坏运气。泰，好运气。\\nr  〔不嫁义郎体，其往欲何云〕这样的好郎君都不嫁， 往后（你）打算怎么样呢？义郎，好郎君，指太守 的儿子。义，善、好。其往，其后、将来。\\ns  〔处分适兄意〕怎样处理，完全照哥哥的主意吧。处 分，处理、处置。适，顺从、依照。\\nt  〔要（yāo）〕相约。\\nu  〔渠〕他，指府吏。   v  〔登即〕当即，立即。\\nw  〔许和〕应许。', metadata={'source': '/home/dola/teach-chat/data/chinese/语文选择性必修下册.pdf', 'file_path': '/home/dola/teach-chat/data/chinese/语文选择性必修下册.pdf', 'page': 14, 'total_pages': 126, 'format': 'PDF 1.7', 'title': '', 'author': 'Founder Electronics Ltd', 'subject': '', 'keywords': '', 'creator': 'Adobe InDesign 15.0 (Macintosh)', 'producer': 'Adobe PDF Library 15.0', 'creationDate': \"D:20210727142159+08'00'\", 'modDate': \"D:20230810162313+08'00'\", 'trapped': 'False'})]\n"
     ]
    },
    {
     "data": {
      "text/plain": [
       "[Document(page_content='的抒情诗。\\nq  〔 帝 高 阳 之 苗 裔 兮， 朕 皇 考 曰 伯 庸 〕 我 是 颛 顼 （zhuānxū）帝的远代子孙（即楚王的同宗），父亲 名为伯庸。高阳，传说中的古代帝王颛顼。苗裔， 远代子孙。朕，我。皇考，对已故父亲的美称。\\n皇，大。考，称已故的父亲。\\nr  〔摄提贞于孟陬（zōu）兮，惟庚寅吾以降〕正当寅 年的寅月寅日，我降生了。摄提，即“摄提格”， 寅年的别称。贞，当、正当。孟陬，孟春正月，是 寅月，正月为陬。庚寅，庚寅日。降，降生。\\ns  〔皇览揆（kuí）余初度兮，肇锡余以嘉名〕先父 观察衡量我降生时的情况，一出生就赐给我美名。\\n皇，“皇考”的简称。览揆，观察衡量。览，观察。\\n揆，测度、衡量。初度，出生时的情况。肇，开 始。锡，赐给。嘉名，美名。', metadata={'source': '/home/dola/teach-chat/data/chinese/语文选择性必修下册.pdf', 'file_path': '/home/dola/teach-chat/data/chinese/语文选择性必修下册.pdf', 'page': 7, 'total_pages': 126, 'format': 'PDF 1.7', 'title': '', 'author': 'Founder Electronics Ltd', 'subject': '', 'keywords': '', 'creator': 'Adobe InDesign 15.0 (Macintosh)', 'producer': 'Adobe PDF Library 15.0', 'creationDate': \"D:20210727142159+08'00'\", 'modDate': \"D:20230810162313+08'00'\", 'trapped': 'False'}),\n",
       " Document(page_content='女儿出身微贱，不能相配。但这两句后边，恐仍有 脱漏之句。寻，接着、不久。丞，郡丞，辅助太守 的官。承籍，承继祖辈的仕籍。宦官，即官宦，做 官的人。\\nl  〔娇逸〕娇美文雅。\\nm  〔遣丞为媒人，主簿通语言〕请郡丞做媒人，主簿 传达（太守）的话。主簿，太守的下属。\\nn  〔结大义〕指结为婚姻。\\no  〔作计〕打算。\\np  〔不量（liáng）〕意思是欠考虑。\\nq  〔否（pǐ）泰如天地〕运气的好坏，相差像天上地下 一样。否，坏运气。泰，好运气。\\nr  〔不嫁义郎体，其往欲何云〕这样的好郎君都不嫁， 往后（你）打算怎么样呢？义郎，好郎君，指太守 的儿子。义，善、好。其往，其后、将来。\\ns  〔处分适兄意〕怎样处理，完全照哥哥的主意吧。处 分，处理、处置。适，顺从、依照。\\nt  〔要（yāo）〕相约。\\nu  〔渠〕他，指府吏。   v  〔登即〕当即，立即。\\nw  〔许和〕应许。', metadata={'source': '/home/dola/teach-chat/data/chinese/语文选择性必修下册.pdf', 'file_path': '/home/dola/teach-chat/data/chinese/语文选择性必修下册.pdf', 'page': 14, 'total_pages': 126, 'format': 'PDF 1.7', 'title': '', 'author': 'Founder Electronics Ltd', 'subject': '', 'keywords': '', 'creator': 'Adobe InDesign 15.0 (Macintosh)', 'producer': 'Adobe PDF Library 15.0', 'creationDate': \"D:20210727142159+08'00'\", 'modDate': \"D:20230810162313+08'00'\", 'trapped': 'False'}),\n",
       " Document(page_content='土 u，宦骑与黄门驸马争船 v，推堕驸马河中溺死，宦骑亡，诏使孺卿 逐捕，不得，惶恐饮药而死。来时太夫人已不幸 w，陵送葬至阳陵 x。\\n子卿妇年少，闻已更嫁 y矣。独有女弟 z二人，两女一男 @7，今复十余 年，存亡不可知。人生如朝露，何久自苦如此！陵始降时，忽忽如狂， 自痛负汉 @8，加以老母系保宫 @9。子卿不欲降，何以过陵 #0 ？且陛下春', metadata={'source': '/home/dola/teach-chat/data/chinese/语文选择性必修中册.pdf', 'file_path': '/home/dola/teach-chat/data/chinese/语文选择性必修中册.pdf', 'page': 94, 'total_pages': 138, 'format': 'PDF 1.7', 'title': '', 'author': 'Founder Electronics Ltd', 'subject': '', 'keywords': '', 'creator': 'Adobe InDesign 15.0 (Macintosh)', 'producer': 'Adobe PDF Library 15.0', 'creationDate': \"D:20200728145737+08'00'\", 'modDate': \"D:20230812141802+08'00'\", 'trapped': 'False'})]"
      ]
     },
     "execution_count": 7,
     "metadata": {},
     "output_type": "execute_result"
    }
   ],
   "source": [
    "create_db(\"chinese\")\n",
    "searchin(\"chinese\",\"帝高阳之苗裔兮，朕皇考曰伯庸 下一句\")"
   ]
  }
 ],
 "metadata": {
  "kernelspec": {
   "display_name": "teachchat",
   "language": "python",
   "name": "python3"
  },
  "language_info": {
   "codemirror_mode": {
    "name": "ipython",
    "version": 3
   },
   "file_extension": ".py",
   "mimetype": "text/x-python",
   "name": "python",
   "nbconvert_exporter": "python",
   "pygments_lexer": "ipython3",
   "version": "3.10.13"
  }
 },
 "nbformat": 4,
 "nbformat_minor": 2
}
